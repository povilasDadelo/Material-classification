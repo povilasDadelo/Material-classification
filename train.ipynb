{
 "cells": [
  {
   "cell_type": "code",
   "execution_count": 1,
   "id": "2202e16c-cfc4-4db9-b166-33c70578b0b4",
   "metadata": {
    "tags": []
   },
   "outputs": [],
   "source": [
    "from fastai.vision.all import *\n",
    "from torch.utils.data.dataset import Dataset\n",
    "import torch\n",
    "import torchaudio\n",
    "from torchaudio.transforms import *\n",
    "from pathlib import Path\n",
    "import numpy as np\n",
    "import glob\n",
    "import torchvision.models as models\n",
    "import torch.nn as nn\n",
    "import torch.nn.functional as F\n",
    "import math\n",
    "from sklearn.metrics import classification_report"
   ]
  },
  {
   "cell_type": "code",
   "execution_count": 2,
   "id": "013c34de-58ff-4e5e-9ee5-7efd5c9982b7",
   "metadata": {},
   "outputs": [],
   "source": [
    "class ResBlock(nn.Module):\n",
    "    def __init__(self, dilation=1):\n",
    "        super().__init__()\n",
    "        \n",
    "        self.conv1 = nn.Conv2d(16, 16, 3, dilation=dilation, padding=dilation)\n",
    "        self.batch1 = nn.BatchNorm2d(16)\n",
    "        self.act1 = nn.ReLU()\n",
    "        \n",
    "        self.conv2 = nn.Conv2d(16, 16, 3, dilation=dilation, padding=dilation)\n",
    "        self.batch2 = nn.BatchNorm2d(16)\n",
    "        self.act2 = nn.ReLU()\n",
    "        \n",
    "        self.dropout = nn.Dropout(p=0.2)\n",
    "\n",
    "    def forward(self, x):\n",
    "        inp = self.dropout(x)\n",
    "        dil1 = self.conv1(x)\n",
    "        batch1 = self.batch1(dil1)\n",
    "        act1 = self.act1(batch1)\n",
    "        \n",
    "        dil2 = self.conv2(act1)\n",
    "        batch2 = self.batch2(dil2)\n",
    "        act2 = self.act2(batch2)\n",
    "        \n",
    "        return inp + act2"
   ]
  },
  {
   "cell_type": "code",
   "execution_count": 3,
   "id": "6397bf9b-0181-4a7a-9728-1fa171f7c141",
   "metadata": {},
   "outputs": [],
   "source": [
    "class Net(nn.Module):\n",
    "    def __init__(self, n_out=0):\n",
    "        super().__init__()\n",
    "        \n",
    "        self.n_out = n_out\n",
    "        \n",
    "        self.conv1 = nn.Conv2d(3, 16, 3, dilation=1)\n",
    "        self.act1 = nn.ReLU()\n",
    "        \n",
    "        self.res1 = ResBlock(dilation=1)\n",
    "        self.pool1 = nn.MaxPool2d(1, 2)\n",
    "\n",
    "        self.res2 = ResBlock(dilation=1) \n",
    "        self.pool2 = nn.MaxPool2d(1, 2)\n",
    "\n",
    "        self.res3 = ResBlock(dilation=1)\n",
    "        \n",
    "        self.fc = nn.Linear(96, self.n_out)\n",
    "\n",
    "    def forward(self, x):\n",
    "        x = self.conv1(x)\n",
    "        x = self.act1(x)\n",
    "        x = self.res1(x)\n",
    "        x = self.pool1(x)\n",
    "        x = self.res2(x)\n",
    "        x = self.pool2(x)\n",
    "        x = self.res3(x)\n",
    "        x = torch.flatten(x, start_dim=1)\n",
    "        x = self.fc(x)\n",
    "        x = torch.Tensor(x.cpu().float()).float().cuda()\n",
    "        \n",
    "        return x"
   ]
  },
  {
   "cell_type": "code",
   "execution_count": 4,
   "id": "8ebc259a-6d48-460a-91a4-412bc215e093",
   "metadata": {},
   "outputs": [],
   "source": [
    "path = Path('new_new_data')"
   ]
  },
  {
   "cell_type": "code",
   "execution_count": 5,
   "id": "b2cb8c0d-f878-453a-992e-b0136583936b",
   "metadata": {},
   "outputs": [],
   "source": [
    "def get_radar_items(path_to_data): \n",
    "    items = list(map(lambda x: x.ls(), path.ls()))\n",
    "    \n",
    "    return [item for sublist in items for item in sublist]"
   ]
  },
  {
   "cell_type": "code",
   "execution_count": 6,
   "id": "54217039-807b-4a67-bbf8-b9074c9bd6c6",
   "metadata": {},
   "outputs": [],
   "source": [
    "def label_func(fname): return parent_label(fname)"
   ]
  },
  {
   "cell_type": "code",
   "execution_count": 7,
   "id": "1b8fc754-d369-4f48-ae22-40d3277cafe6",
   "metadata": {},
   "outputs": [],
   "source": [
    "def get_x(img_path):\n",
    "    signal_data = np.load(img_path)\n",
    "    spec = torchaudio.transforms.Spectrogram(n_fft=64, win_length=12)\n",
    "        \n",
    "    img = torch.stack((\n",
    "        torch.tensor(signal_data[0]),\n",
    "        torch.tensor(signal_data[1]),\n",
    "        torch.tensor(signal_data[2]),\n",
    "    ))\n",
    "    \n",
    "    img_hwc = torch.transpose(spec(img), 0, 2).numpy()\n",
    "    \n",
    "    return img_hwc.astype(np.uint8)[:, :10]"
   ]
  },
  {
   "cell_type": "code",
   "execution_count": 8,
   "id": "99918e6f-1efb-401a-b8e0-f7f02aa3909e",
   "metadata": {},
   "outputs": [
    {
     "data": {
      "text/plain": [
       "27"
      ]
     },
     "execution_count": 8,
     "metadata": {},
     "output_type": "execute_result"
    }
   ],
   "source": [
    "all_items = np.array([get_x(pth) for pth in get_radar_items(path)])\n",
    "mi, mx = (all_items.min(), all_items.max())\n",
    "mx"
   ]
  },
  {
   "cell_type": "code",
   "execution_count": 9,
   "id": "165ec9ec-40bc-4cc8-9309-1352bedafa0a",
   "metadata": {
    "tags": []
   },
   "outputs": [],
   "source": [
    "def get_x(img_path):\n",
    "    signal_data = np.load(img_path)\n",
    "    spec = torchaudio.transforms.Spectrogram(n_fft=64, win_length=12)\n",
    "        \n",
    "    img = torch.stack((\n",
    "        torch.tensor(signal_data[0]),\n",
    "        torch.tensor(signal_data[1]),\n",
    "        torch.tensor(signal_data[2]),\n",
    "    ))\n",
    "    \n",
    "    img_hwc = torch.transpose(spec(img), 0, 2).numpy()\n",
    "    optimize_mx = math.floor(math.sqrt(mx)) - 1\n",
    "    \n",
    "    return (img_hwc / optimize_mx * 255).astype(np.uint8)[:, :10]"
   ]
  },
  {
   "cell_type": "code",
   "execution_count": 12,
   "id": "7f7a2916-0d1b-47f6-b713-261461d35980",
   "metadata": {},
   "outputs": [
    {
     "data": {
      "text/plain": [
       "<matplotlib.image.AxesImage at 0x7f6e23131890>"
      ]
     },
     "execution_count": 12,
     "metadata": {},
     "output_type": "execute_result"
    },
    {
     "data": {
      "image/png": "[encoded data removed]",
      "text/plain": [
       "<Figure size 432x288 with 1 Axes>"
      ]
     },
     "metadata": {
      "needs_background": "light"
     },
     "output_type": "display_data"
    }
   ],
   "source": [
    "plt.imshow(get_x(path.ls()[0].ls()[0]))"
   ]
  },
  {
   "cell_type": "code",
   "execution_count": 13,
   "id": "0c694948-6062-4e83-8e53-58afb5bf7430",
   "metadata": {},
   "outputs": [],
   "source": [
    "dblock = DataBlock(blocks     = (ImageBlock, CategoryBlock),\n",
    "                   get_items  = get_radar_items,\n",
    "                   get_y      = label_func,\n",
    "                   get_x      = get_x,\n",
    "                   batch_tfms = Normalize.from_stats(*imagenet_stats)\n",
    "                  )\n"
   ]
  },
  {
   "cell_type": "code",
   "execution_count": 14,
   "id": "2cd29297-c4b9-4091-9445-9a3ba4bab2e3",
   "metadata": {},
   "outputs": [],
   "source": [
    "batch_size = 64"
   ]
  },
  {
   "cell_type": "code",
   "execution_count": 15,
   "id": "ad8fa73b-cfd6-4d12-8219-7cd2476f42ca",
   "metadata": {},
   "outputs": [
    {
     "data": {
      "image/png": "[encoded data removed]",
      "text/plain": [
       "<Figure size 648x648 with 9 Axes>"
      ]
     },
     "metadata": {
      "needs_background": "light"
     },
     "output_type": "display_data"
    }
   ],
   "source": [
    "dls = dblock.dataloaders(path, bs=batch_size)\n",
    "dls.show_batch()"
   ]
  },
  {
   "cell_type": "code",
   "execution_count": 16,
   "id": "e0a869a1-705e-485c-b555-b1de7b45e019",
   "metadata": {},
   "outputs": [
    {
     "data": {
      "text/plain": [
       "['Apelsinas', 'CocaCola', 'Kefyras', 'Obuolys', 'Pomidoras', 'Vanduo']"
      ]
     },
     "execution_count": 16,
     "metadata": {},
     "output_type": "execute_result"
    }
   ],
   "source": [
    "dls.vocab"
   ]
  },
  {
   "cell_type": "code",
   "execution_count": 17,
   "id": "773a8aea-14ef-43c2-b5c8-dd0f4dadcb54",
   "metadata": {},
   "outputs": [],
   "source": [
    "net = Net(n_out=len(dls.vocab))"
   ]
  },
  {
   "cell_type": "code",
   "execution_count": 18,
   "id": "15810dd3-c8d9-4b2a-8500-e231d6b02537",
   "metadata": {},
   "outputs": [],
   "source": [
    "learn = Learner(dls, xresnet34(), metrics=accuracy)\n",
    "\n",
    "# learn = Learner(dls, xresnet34(pretrained=False), metrics=accuracy)\n",
    "\n",
    "# learn = Learner(dls, net, metrics=[accuracy])"
   ]
  },
  {
   "cell_type": "code",
   "execution_count": 19,
   "id": "1dd8884f-082e-49e2-bcc8-1ce620d8ff80",
   "metadata": {},
   "outputs": [
    {
     "data": {
      "text/html": [],
      "text/plain": [
       "<IPython.core.display.HTML object>"
      ]
     },
     "metadata": {},
     "output_type": "display_data"
    },
    {
     "data": {
      "text/plain": [
       "SuggestedLRs(valley=0.0010000000474974513)"
      ]
     },
     "execution_count": 19,
     "metadata": {},
     "output_type": "execute_result"
    },
    {
     "data": {
      "image/png": "[encoded data removed]",
      "text/plain": [
       "<Figure size 432x288 with 1 Axes>"
      ]
     },
     "metadata": {
      "needs_background": "light"
     },
     "output_type": "display_data"
    }
   ],
   "source": [
    "learn.lr_find()"
   ]
  },
  {
   "cell_type": "code",
   "execution_count": 20,
   "id": "df0c3009-9eaf-48c3-b98e-d82dfdbcd902",
   "metadata": {},
   "outputs": [],
   "source": [
    "# learn.summary()\n",
    "# learn.loss_func"
   ]
  },
  {
   "cell_type": "code",
   "execution_count": 21,
   "id": "cd43b8a1-d3aa-4084-a8cf-5f285641dbf7",
   "metadata": {},
   "outputs": [],
   "source": [
    "lr = 1e-3"
   ]
  },
  {
   "cell_type": "code",
   "execution_count": 22,
   "id": "f3abb8d7-a03a-4a87-8cfa-eb3f4ad4f039",
   "metadata": {},
   "outputs": [
    {
     "data": {
      "text/html": [
       "<table border=\"1\" class=\"dataframe\">\n",
       "  <thead>\n",
       "    <tr style=\"text-align: left;\">\n",
       "      <th>epoch</th>\n",
       "      <th>train_loss</th>\n",
       "      <th>valid_loss</th>\n",
       "      <th>accuracy</th>\n",
       "      <th>time</th>\n",
       "    </tr>\n",
       "  </thead>\n",
       "  <tbody>\n",
       "    <tr>\n",
       "      <td>0</td>\n",
       "      <td>7.434035</td>\n",
       "      <td>7.705050</td>\n",
       "      <td>0.000000</td>\n",
       "      <td>00:01</td>\n",
       "    </tr>\n",
       "    <tr>\n",
       "      <td>1</td>\n",
       "      <td>7.221883</td>\n",
       "      <td>6.882029</td>\n",
       "      <td>0.024590</td>\n",
       "      <td>00:01</td>\n",
       "    </tr>\n",
       "    <tr>\n",
       "      <td>2</td>\n",
       "      <td>6.974309</td>\n",
       "      <td>6.439185</td>\n",
       "      <td>0.040984</td>\n",
       "      <td>00:01</td>\n",
       "    </tr>\n",
       "    <tr>\n",
       "      <td>3</td>\n",
       "      <td>6.682024</td>\n",
       "      <td>5.833245</td>\n",
       "      <td>0.254098</td>\n",
       "      <td>00:01</td>\n",
       "    </tr>\n",
       "    <tr>\n",
       "      <td>4</td>\n",
       "      <td>6.315449</td>\n",
       "      <td>4.995469</td>\n",
       "      <td>0.352459</td>\n",
       "      <td>00:01</td>\n",
       "    </tr>\n",
       "    <tr>\n",
       "      <td>5</td>\n",
       "      <td>5.837881</td>\n",
       "      <td>3.978557</td>\n",
       "      <td>0.442623</td>\n",
       "      <td>00:01</td>\n",
       "    </tr>\n",
       "    <tr>\n",
       "      <td>6</td>\n",
       "      <td>5.292505</td>\n",
       "      <td>2.870631</td>\n",
       "      <td>0.622951</td>\n",
       "      <td>00:01</td>\n",
       "    </tr>\n",
       "    <tr>\n",
       "      <td>7</td>\n",
       "      <td>4.674301</td>\n",
       "      <td>1.874002</td>\n",
       "      <td>0.663934</td>\n",
       "      <td>00:01</td>\n",
       "    </tr>\n",
       "    <tr>\n",
       "      <td>8</td>\n",
       "      <td>4.066580</td>\n",
       "      <td>1.156953</td>\n",
       "      <td>0.754098</td>\n",
       "      <td>00:01</td>\n",
       "    </tr>\n",
       "    <tr>\n",
       "      <td>9</td>\n",
       "      <td>3.479665</td>\n",
       "      <td>0.781936</td>\n",
       "      <td>0.811475</td>\n",
       "      <td>00:01</td>\n",
       "    </tr>\n",
       "    <tr>\n",
       "      <td>10</td>\n",
       "      <td>2.964862</td>\n",
       "      <td>0.592911</td>\n",
       "      <td>0.819672</td>\n",
       "      <td>00:01</td>\n",
       "    </tr>\n",
       "    <tr>\n",
       "      <td>11</td>\n",
       "      <td>2.518661</td>\n",
       "      <td>0.478795</td>\n",
       "      <td>0.852459</td>\n",
       "      <td>00:01</td>\n",
       "    </tr>\n",
       "    <tr>\n",
       "      <td>12</td>\n",
       "      <td>2.141700</td>\n",
       "      <td>0.426683</td>\n",
       "      <td>0.901639</td>\n",
       "      <td>00:01</td>\n",
       "    </tr>\n",
       "    <tr>\n",
       "      <td>13</td>\n",
       "      <td>1.822712</td>\n",
       "      <td>0.409865</td>\n",
       "      <td>0.893443</td>\n",
       "      <td>00:01</td>\n",
       "    </tr>\n",
       "    <tr>\n",
       "      <td>14</td>\n",
       "      <td>1.554261</td>\n",
       "      <td>0.419676</td>\n",
       "      <td>0.893443</td>\n",
       "      <td>00:01</td>\n",
       "    </tr>\n",
       "    <tr>\n",
       "      <td>15</td>\n",
       "      <td>1.328561</td>\n",
       "      <td>0.405215</td>\n",
       "      <td>0.893443</td>\n",
       "      <td>00:01</td>\n",
       "    </tr>\n",
       "    <tr>\n",
       "      <td>16</td>\n",
       "      <td>1.138100</td>\n",
       "      <td>0.415390</td>\n",
       "      <td>0.868852</td>\n",
       "      <td>00:01</td>\n",
       "    </tr>\n",
       "    <tr>\n",
       "      <td>17</td>\n",
       "      <td>0.977002</td>\n",
       "      <td>0.388054</td>\n",
       "      <td>0.909836</td>\n",
       "      <td>00:01</td>\n",
       "    </tr>\n",
       "    <tr>\n",
       "      <td>18</td>\n",
       "      <td>0.840057</td>\n",
       "      <td>0.411947</td>\n",
       "      <td>0.885246</td>\n",
       "      <td>00:01</td>\n",
       "    </tr>\n",
       "    <tr>\n",
       "      <td>19</td>\n",
       "      <td>0.723569</td>\n",
       "      <td>0.458124</td>\n",
       "      <td>0.852459</td>\n",
       "      <td>00:01</td>\n",
       "    </tr>\n",
       "    <tr>\n",
       "      <td>20</td>\n",
       "      <td>0.623847</td>\n",
       "      <td>0.420000</td>\n",
       "      <td>0.893443</td>\n",
       "      <td>00:01</td>\n",
       "    </tr>\n",
       "    <tr>\n",
       "      <td>21</td>\n",
       "      <td>0.538416</td>\n",
       "      <td>0.434495</td>\n",
       "      <td>0.885246</td>\n",
       "      <td>00:01</td>\n",
       "    </tr>\n",
       "    <tr>\n",
       "      <td>22</td>\n",
       "      <td>0.465071</td>\n",
       "      <td>0.440169</td>\n",
       "      <td>0.868852</td>\n",
       "      <td>00:01</td>\n",
       "    </tr>\n",
       "    <tr>\n",
       "      <td>23</td>\n",
       "      <td>0.401985</td>\n",
       "      <td>0.434880</td>\n",
       "      <td>0.868852</td>\n",
       "      <td>00:01</td>\n",
       "    </tr>\n",
       "    <tr>\n",
       "      <td>24</td>\n",
       "      <td>0.347768</td>\n",
       "      <td>0.423798</td>\n",
       "      <td>0.893443</td>\n",
       "      <td>00:01</td>\n",
       "    </tr>\n",
       "    <tr>\n",
       "      <td>25</td>\n",
       "      <td>0.301109</td>\n",
       "      <td>0.421912</td>\n",
       "      <td>0.901639</td>\n",
       "      <td>00:01</td>\n",
       "    </tr>\n",
       "    <tr>\n",
       "      <td>26</td>\n",
       "      <td>0.260824</td>\n",
       "      <td>0.421939</td>\n",
       "      <td>0.901639</td>\n",
       "      <td>00:01</td>\n",
       "    </tr>\n",
       "    <tr>\n",
       "      <td>27</td>\n",
       "      <td>0.226044</td>\n",
       "      <td>0.423956</td>\n",
       "      <td>0.893443</td>\n",
       "      <td>00:01</td>\n",
       "    </tr>\n",
       "    <tr>\n",
       "      <td>28</td>\n",
       "      <td>0.195973</td>\n",
       "      <td>0.423598</td>\n",
       "      <td>0.893443</td>\n",
       "      <td>00:01</td>\n",
       "    </tr>\n",
       "    <tr>\n",
       "      <td>29</td>\n",
       "      <td>0.170053</td>\n",
       "      <td>0.425980</td>\n",
       "      <td>0.893443</td>\n",
       "      <td>00:01</td>\n",
       "    </tr>\n",
       "    <tr>\n",
       "      <td>30</td>\n",
       "      <td>0.147575</td>\n",
       "      <td>0.425427</td>\n",
       "      <td>0.901639</td>\n",
       "      <td>00:01</td>\n",
       "    </tr>\n",
       "    <tr>\n",
       "      <td>31</td>\n",
       "      <td>0.128284</td>\n",
       "      <td>0.427856</td>\n",
       "      <td>0.877049</td>\n",
       "      <td>00:01</td>\n",
       "    </tr>\n",
       "    <tr>\n",
       "      <td>32</td>\n",
       "      <td>0.111578</td>\n",
       "      <td>0.429660</td>\n",
       "      <td>0.893443</td>\n",
       "      <td>00:01</td>\n",
       "    </tr>\n",
       "  </tbody>\n",
       "</table>"
      ],
      "text/plain": [
       "<IPython.core.display.HTML object>"
      ]
     },
     "metadata": {},
     "output_type": "display_data"
    }
   ],
   "source": [
    "learn.fit_one_cycle(33, lr, pct_start=0.7, wd=1e-2)"
   ]
  },
  {
   "cell_type": "code",
   "execution_count": 31,
   "id": "0bc111d6-2f10-44f0-936a-3c9393f3b513",
   "metadata": {},
   "outputs": [],
   "source": [
    "#learn.unfreeze()"
   ]
  },
  {
   "cell_type": "code",
   "execution_count": 32,
   "id": "384399bb-3853-41d2-b37a-64f2237dfd6c",
   "metadata": {},
   "outputs": [],
   "source": [
    "#learn.fit_one_cycle(20, slice(lr/400, lr/4), pct_start=0.7)"
   ]
  },
  {
   "cell_type": "code",
   "execution_count": 23,
   "id": "f4215686-0c16-4103-aec0-b9bd91a5a73a",
   "metadata": {},
   "outputs": [
    {
     "data": {
      "image/png": "[encoded data removed]",
      "text/plain": [
       "<Figure size 864x720 with 1 Axes>"
      ]
     },
     "metadata": {
      "needs_background": "light"
     },
     "output_type": "display_data"
    }
   ],
   "source": [
    "plt.figure(figsize=(12,10))\n",
    "plt.xlabel('Žingsnis', fontsize=16)\n",
    "plt.ylabel('Klaida', fontsize=16)\n",
    "learn.recorder.plot_loss()"
   ]
  },
  {
   "cell_type": "code",
   "execution_count": 24,
   "id": "6c73b980-0369-4548-8014-bf0f7ea3468f",
   "metadata": {},
   "outputs": [
    {
     "data": {
      "text/html": [],
      "text/plain": [
       "<IPython.core.display.HTML object>"
      ]
     },
     "metadata": {},
     "output_type": "display_data"
    },
    {
     "data": {
      "image/png": "[encoded data removed]",
      "text/plain": [
       "<Figure size 648x648 with 9 Axes>"
      ]
     },
     "metadata": {
      "needs_background": "light"
     },
     "output_type": "display_data"
    }
   ],
   "source": [
    "learn.show_results()"
   ]
  },
  {
   "cell_type": "code",
   "execution_count": 25,
   "id": "54106198-28de-4eef-9e61-f172e75b186c",
   "metadata": {},
   "outputs": [
    {
     "data": {
      "text/html": [],
      "text/plain": [
       "<IPython.core.display.HTML object>"
      ]
     },
     "metadata": {},
     "output_type": "display_data"
    },
    {
     "data": {
      "image/png": "[encoded data removed]",
      "text/plain": [
       "<Figure size 720x480 with 1 Axes>"
      ]
     },
     "metadata": {
      "needs_background": "light"
     },
     "output_type": "display_data"
    }
   ],
   "source": [
    "interp = ClassificationInterpretation.from_learner(learn)\n",
    "\n",
    "interp.plot_confusion_matrix(dpi=120, title = \"Confusion matrix\")"
   ]
  },
  {
   "cell_type": "code",
   "execution_count": 26,
   "id": "d6eca50b-2fc7-4f00-bdf9-188dba18da3e",
   "metadata": {},
   "outputs": [
    {
     "data": {
      "text/html": [],
      "text/plain": [
       "<IPython.core.display.HTML object>"
      ]
     },
     "metadata": {},
     "output_type": "display_data"
    },
    {
     "name": "stdout",
     "output_type": "stream",
     "text": [
      "              precision    recall  f1-score   support\n",
      "\n",
      "   Apelsinas       0.82      0.82      0.82        22\n",
      "    CocaCola       1.00      0.96      0.98        25\n",
      "     Kefyras       0.94      0.94      0.94        16\n",
      "     Obuolys       0.75      0.71      0.73        21\n",
      "   Pomidoras       0.90      0.95      0.93        20\n",
      "      Vanduo       0.95      1.00      0.97        18\n",
      "\n",
      "    accuracy                           0.89       122\n",
      "   macro avg       0.89      0.90      0.89       122\n",
      "weighted avg       0.89      0.89      0.89       122\n",
      "\n"
     ]
    }
   ],
   "source": [
    "interp = ClassificationInterpretation.from_learner(learn)\n",
    "interp.print_classification_report()"
   ]
  },
  {
   "cell_type": "code",
   "execution_count": null,
   "id": "adcd8a80-f909-4cd4-bd5d-61f99425301f",
   "metadata": {},
   "outputs": [],
   "source": []
  }
 ],
 "metadata": {
  "kernelspec": {
   "display_name": "Python 3 (ipykernel)",
   "language": "python",
   "name": "python3"
  },
  "language_info": {
   "codemirror_mode": {
    "name": "ipython",
    "version": 3
   },
   "file_extension": ".py",
   "mimetype": "text/x-python",
   "name": "python",
   "nbconvert_exporter": "python",
   "pygments_lexer": "ipython3",
   "version": "3.7.11"
  }
 },
 "nbformat": 4,
 "nbformat_minor": 5
}
