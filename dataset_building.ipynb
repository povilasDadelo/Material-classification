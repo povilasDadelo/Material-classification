{
 "cells": [
  {
   "cell_type": "code",
   "execution_count": 1,
   "id": "6bfd5417-36d0-484e-9e56-e59ccd77bdaf",
   "metadata": {},
   "outputs": [],
   "source": [
    "import numpy as np\n",
    "import matplotlib.pyplot as plt\n",
    "from ifxRadarSDK import *\n",
    "import torchaudio\n",
    "import torch\n",
    "import ipywidgets as widgets\n",
    "import uuid\n",
    "from IPython.display import display, clear_output\n",
    "import os"
   ]
  },
  {
   "cell_type": "code",
   "execution_count": 2,
   "id": "3e89fb1a-2ff3-4bba-8fb9-fd3bfc473ccb",
   "metadata": {},
   "outputs": [],
   "source": [
    "def get_frame(klass):\n",
    "    with Device() as device:\n",
    "        num_rx_antennas = device.get_device_information()[\"num_rx_antennas\"]\n",
    "        rx_mask = (1 << num_rx_antennas) - 1\n",
    "\n",
    "        metric = {\n",
    "                    'sample_rate_Hz':           1000000,\n",
    "                    'range_resolution_m':       0.03,\n",
    "                    'max_range_m':              0.8,\n",
    "                    'max_speed_m_s':            2.84,\n",
    "                    'speed_resolution_m_s':     0.089,\n",
    "                    'center_frequency_Hz':      0,\n",
    "                    # 'lower_frequency_Hz':       57810000000,\n",
    "                    # 'upper_frequency_Hz':       63190000000,\n",
    "                    'rx_mask':                  rx_mask,\n",
    "                    'tx_mask':                  1,\n",
    "                    'tx_power_level':           4,\n",
    "                    'if_gain_dB':               40\n",
    "                }\n",
    "        cfg = device.translate_metrics_to_config(**metric);\n",
    "        device.set_config(**cfg)\n",
    "\n",
    "        #Create frame\n",
    "\n",
    "        frame = device.create_frame_from_device_handle()\n",
    "\n",
    "        #Number of virtual active receiving antennas\n",
    "        num_rx = frame.get_num_rx()\n",
    "\n",
    "        device.get_next_frame(frame)\n",
    "\n",
    "        data = []\n",
    "        for iAnt in range(0, num_rx):\n",
    "            mat = frame.get_mat_from_antenna(iAnt)\n",
    "            data.append(mat)\n",
    "        \n",
    "        data = np.array(data)\n",
    "        \n",
    "        return data"
   ]
  },
  {
   "cell_type": "code",
   "execution_count": 3,
   "id": "dbebe180-91f9-4c19-a2cc-1a5d3bc2a087",
   "metadata": {},
   "outputs": [],
   "source": [
    "def save_frame(klass):\n",
    "    with Device() as device:\n",
    "        num_rx_antennas = device.get_device_information()[\"num_rx_antennas\"]\n",
    "        rx_mask = (1 << num_rx_antennas) - 1\n",
    "\n",
    "        metric = {\n",
    "                    'sample_rate_Hz':           1000000,\n",
    "                    'range_resolution_m':       0.03,\n",
    "                    'max_range_m':              0.8,\n",
    "                    'max_speed_m_s':            2.84,\n",
    "                    'speed_resolution_m_s':     0.089,\n",
    "                    'center_frequency_Hz':      0,\n",
    "                    # 'lower_frequency_Hz':       57810000000,\n",
    "                    # 'upper_frequency_Hz':       63190000000,\n",
    "                    'rx_mask':                  rx_mask,\n",
    "                    'tx_mask':                  1,\n",
    "                    'tx_power_level':           4,\n",
    "                    'if_gain_dB':               40\n",
    "                }\n",
    "        cfg = device.translate_metrics_to_config(**metric);\n",
    "        device.set_config(**cfg)\n",
    "\n",
    "        #Create frame\n",
    "\n",
    "        frame = device.create_frame_from_device_handle()\n",
    "\n",
    "        #Number of virtual active receiving antennas\n",
    "        num_rx = frame.get_num_rx()\n",
    "\n",
    "        device.get_next_frame(frame)\n",
    "\n",
    "        data = []\n",
    "        for iAnt in range(0, num_rx):\n",
    "            mat = frame.get_mat_from_antenna(iAnt)\n",
    "            data.append(mat)\n",
    "        data = np.array(data)\n",
    "        path = f'test_data/{klass}'\n",
    "        \n",
    "        if not os.path.exists(path): os.mkdir(path)\n",
    "        np.save(f'{path}/{str(uuid.uuid4())}', data[:, 0])"
   ]
  },
  {
   "cell_type": "code",
   "execution_count": 4,
   "id": "29e7afb3-20f9-47e7-a2b4-a535a5966a3b",
   "metadata": {},
   "outputs": [
    {
     "data": {
      "application/vnd.jupyter.widget-view+json": {
       "model_id": "42d0e239b3214088aa86894f02ab74e2",
       "version_major": 2,
       "version_minor": 0
      },
      "text/plain": [
       "Button(description='apple', style=ButtonStyle())"
      ]
     },
     "metadata": {},
     "output_type": "display_data"
    },
    {
     "data": {
      "application/vnd.jupyter.widget-view+json": {
       "model_id": "006a6a850bac435a8cf88944a4283b0e",
       "version_major": 2,
       "version_minor": 0
      },
      "text/plain": [
       "Output()"
      ]
     },
     "metadata": {},
     "output_type": "display_data"
    },
    {
     "data": {
      "application/vnd.jupyter.widget-view+json": {
       "model_id": "ea7fa13b108c48b5bc7c01dd8055a543",
       "version_major": 2,
       "version_minor": 0
      },
      "text/plain": [
       "Button(description='coke', style=ButtonStyle())"
      ]
     },
     "metadata": {},
     "output_type": "display_data"
    },
    {
     "data": {
      "application/vnd.jupyter.widget-view+json": {
       "model_id": "006a6a850bac435a8cf88944a4283b0e",
       "version_major": 2,
       "version_minor": 0
      },
      "text/plain": [
       "Output()"
      ]
     },
     "metadata": {},
     "output_type": "display_data"
    },
    {
     "data": {
      "application/vnd.jupyter.widget-view+json": {
       "model_id": "470be869c21641299658aedc3527286d",
       "version_major": 2,
       "version_minor": 0
      },
      "text/plain": [
       "Button(description='orange', style=ButtonStyle())"
      ]
     },
     "metadata": {},
     "output_type": "display_data"
    },
    {
     "data": {
      "application/vnd.jupyter.widget-view+json": {
       "model_id": "006a6a850bac435a8cf88944a4283b0e",
       "version_major": 2,
       "version_minor": 0
      },
      "text/plain": [
       "Output()"
      ]
     },
     "metadata": {},
     "output_type": "display_data"
    },
    {
     "data": {
      "application/vnd.jupyter.widget-view+json": {
       "model_id": "43ca622f628c4fe18a76f425340c2ead",
       "version_major": 2,
       "version_minor": 0
      },
      "text/plain": [
       "Button(description='tomato', style=ButtonStyle())"
      ]
     },
     "metadata": {},
     "output_type": "display_data"
    },
    {
     "data": {
      "application/vnd.jupyter.widget-view+json": {
       "model_id": "006a6a850bac435a8cf88944a4283b0e",
       "version_major": 2,
       "version_minor": 0
      },
      "text/plain": [
       "Output()"
      ]
     },
     "metadata": {},
     "output_type": "display_data"
    },
    {
     "data": {
      "application/vnd.jupyter.widget-view+json": {
       "model_id": "8b51003994f544768e100e53846ea7cc",
       "version_major": 2,
       "version_minor": 0
      },
      "text/plain": [
       "Button(description='kefir', style=ButtonStyle())"
      ]
     },
     "metadata": {},
     "output_type": "display_data"
    },
    {
     "data": {
      "application/vnd.jupyter.widget-view+json": {
       "model_id": "006a6a850bac435a8cf88944a4283b0e",
       "version_major": 2,
       "version_minor": 0
      },
      "text/plain": [
       "Output()"
      ]
     },
     "metadata": {},
     "output_type": "display_data"
    },
    {
     "data": {
      "application/vnd.jupyter.widget-view+json": {
       "model_id": "ff6d20983ec74f989818eb383cdd2fa0",
       "version_major": 2,
       "version_minor": 0
      },
      "text/plain": [
       "Button(description='water', style=ButtonStyle())"
      ]
     },
     "metadata": {},
     "output_type": "display_data"
    },
    {
     "data": {
      "application/vnd.jupyter.widget-view+json": {
       "model_id": "006a6a850bac435a8cf88944a4283b0e",
       "version_major": 2,
       "version_minor": 0
      },
      "text/plain": [
       "Output()"
      ]
     },
     "metadata": {},
     "output_type": "display_data"
    }
   ],
   "source": [
    "classes = ['orange', 'vape', 'banana', 'jogurtas',\n",
    "           'apple', 'tomato', 'lemon', 'lime', 'avocado',\n",
    "           'pear', 'candle', 'book', 'mobile', 'tennis_ball',\n",
    "           'water', 'coke', 'oil', 'kefir'\n",
    "          ]\n",
    "\n",
    "classes = ['apple', 'coke', 'orange', 'tomato', 'kefir', 'water']\n",
    "\n",
    "output = widgets.Output()\n",
    "\n",
    "def on_button_clicked(b):\n",
    "    with output:\n",
    "        clear_output(wait=True)\n",
    "        save_frame(b.description)\n",
    "\n",
    "for klass in classes:\n",
    "    btn = widgets.Button(description=klass)\n",
    "    display(btn, output)\n",
    "    btn.on_click(on_button_clicked)\n"
   ]
  },
  {
   "cell_type": "code",
   "execution_count": null,
   "id": "f4433240-c289-4e04-832d-2b04ab0959a1",
   "metadata": {},
   "outputs": [],
   "source": []
  }
 ],
 "metadata": {
  "kernelspec": {
   "display_name": "Python 3 (ipykernel)",
   "language": "python",
   "name": "python3"
  },
  "language_info": {
   "codemirror_mode": {
    "name": "ipython",
    "version": 3
   },
   "file_extension": ".py",
   "mimetype": "text/x-python",
   "name": "python",
   "nbconvert_exporter": "python",
   "pygments_lexer": "ipython3",
   "version": "3.7.11"
  }
 },
 "nbformat": 4,
 "nbformat_minor": 5
}
