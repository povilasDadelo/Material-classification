{
 "cells": [
  {
   "cell_type": "code",
   "execution_count": 31,
   "id": "a7dd84fc-12d4-4f65-beb0-5dfb0056d3cd",
   "metadata": {},
   "outputs": [],
   "source": [
    "import numpy as np\n",
    "import matplotlib.pyplot as plt\n",
    "from ifxRadarSDK import *\n",
    "import torchaudio\n",
    "import torch"
   ]
  },
  {
   "cell_type": "code",
   "execution_count": 60,
   "id": "dbccae1b-d3c8-4e40-8d6d-60a379a6b53a",
   "metadata": {},
   "outputs": [
    {
     "data": {
      "image/png": "[encoded data removed]",
      "text/plain": [
       "<Figure size 432x288 with 1 Axes>"
      ]
     },
     "metadata": {
      "needs_background": "light"
     },
     "output_type": "display_data"
    },
    {
     "data": {
      "image/png": "[encoded data removed]",
      "text/plain": [
       "<Figure size 432x288 with 1 Axes>"
      ]
     },
     "metadata": {
      "needs_background": "light"
     },
     "output_type": "display_data"
    },
    {
     "data": {
      "image/png": "[encoded data removed]",
      "text/plain": [
       "<Figure size 432x288 with 1 Axes>"
      ]
     },
     "metadata": {
      "needs_background": "light"
     },
     "output_type": "display_data"
    }
   ],
   "source": [
    "with Device() as device:\n",
    "    num_rx_antennas = device.get_device_information()[\"num_rx_antennas\"]\n",
    "    rx_mask = (1 << num_rx_antennas) - 1\n",
    "\n",
    "    metric = {\n",
    "                'sample_rate_Hz':           1000000,\n",
    "                'range_resolution_m':       0.03,\n",
    "                'max_range_m':              0.8,\n",
    "                'max_speed_m_s':            2.84,\n",
    "                'speed_resolution_m_s':     0.089,\n",
    "                'center_frequency_Hz':      0,\n",
    "                # 'lower_frequency_Hz':       57810000000,\n",
    "                # 'upper_frequency_Hz':       63190000000,\n",
    "                'rx_mask':                  rx_mask,\n",
    "                'tx_mask':                  1,\n",
    "                'tx_power_level':           4,\n",
    "                'if_gain_dB':               40\n",
    "            }\n",
    "    cfg = device.translate_metrics_to_config(**metric);\n",
    "    device.set_config(**cfg)\n",
    "\n",
    "    #Create frame\n",
    "\n",
    "    frame = device.create_frame_from_device_handle()\n",
    "\n",
    "    #Number of virtual active receiving antennas\n",
    "    num_rx = frame.get_num_rx()\n",
    "\n",
    "    device.get_next_frame(frame)\n",
    "    \n",
    "    data = []\n",
    "    for iAnt in range(0, num_rx):\n",
    "        mat = frame.get_mat_from_antenna(iAnt)\n",
    "        data.append(mat)\n",
    "    data = np.array(data)\n",
    "    img = np.transpose(data, (1,2,0))\n",
    "\n",
    "    spec = torchaudio.transforms.Spectrogram(n_fft=24)\n",
    "    for i in range(3):\n",
    "        plt.figure(i)\n",
    "        x = torch.tensor(data[i][0])\n",
    "        fft = spec(x)\n",
    "        plt.imshow(fft.T.log())"
   ]
  },
  {
   "cell_type": "code",
   "execution_count": null,
   "id": "97dc148b-f35e-43a5-a972-c1b5aa9f3f6a",
   "metadata": {},
   "outputs": [],
   "source": []
  }
 ],
 "metadata": {
  "kernelspec": {
   "display_name": "Python 3 (ipykernel)",
   "language": "python",
   "name": "python3"
  },
  "language_info": {
   "codemirror_mode": {
    "name": "ipython",
    "version": 3
   },
   "file_extension": ".py",
   "mimetype": "text/x-python",
   "name": "python",
   "nbconvert_exporter": "python",
   "pygments_lexer": "ipython3",
   "version": "3.9.7"
  }
 },
 "nbformat": 4,
 "nbformat_minor": 5
}
