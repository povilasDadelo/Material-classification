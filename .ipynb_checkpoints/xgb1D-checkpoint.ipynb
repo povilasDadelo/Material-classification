{
 "cells": [
  {
   "cell_type": "code",
   "execution_count": 1,
   "id": "2202e16c-cfc4-4db9-b166-33c70578b0b4",
   "metadata": {
    "tags": []
   },
   "outputs": [],
   "source": [
    "from fastai.vision.all import *\n",
    "from pathlib import Path\n",
    "import numpy as np\n",
    "import glob\n",
    "import xgboost as xgb\n",
    "from sklearn.metrics import *\n",
    "from sklearn.model_selection import train_test_split\n",
    "from sklearn.preprocessing import LabelEncoder"
   ]
  },
  {
   "cell_type": "code",
   "execution_count": 2,
   "id": "8ebc259a-6d48-460a-91a4-412bc215e093",
   "metadata": {},
   "outputs": [],
   "source": [
    "path = Path('new_new_data')"
   ]
  },
  {
   "cell_type": "code",
   "execution_count": 3,
   "id": "b2cb8c0d-f878-453a-992e-b0136583936b",
   "metadata": {},
   "outputs": [],
   "source": [
    "def get_radar_items(path_to_data): \n",
    "    items = list(map(lambda x: x.ls(), path.ls()))\n",
    "    return [item for sublist in items for item in sublist]"
   ]
  },
  {
   "cell_type": "code",
   "execution_count": 4,
   "id": "54217039-807b-4a67-bbf8-b9074c9bd6c6",
   "metadata": {},
   "outputs": [],
   "source": [
    "def label_func(fname):\n",
    "    return parent_label(fname)"
   ]
  },
  {
   "cell_type": "code",
   "execution_count": 5,
   "id": "1b8fc754-d369-4f48-ae22-40d3277cafe6",
   "metadata": {},
   "outputs": [],
   "source": [
    "def get_x(img_path):\n",
    "    signal_data = np.load(img_path)\n",
    "\n",
    "    return signal_data"
   ]
  },
  {
   "cell_type": "code",
   "execution_count": 6,
   "id": "2e292161-fd7e-4fb5-a5e6-64087eb78d5a",
   "metadata": {},
   "outputs": [],
   "source": [
    "labels = [str(clss).split('/')[1] for clss in path.ls()]"
   ]
  },
  {
   "cell_type": "code",
   "execution_count": 7,
   "id": "7297b605-adc0-49f9-8d67-f6bae79d6d52",
   "metadata": {},
   "outputs": [],
   "source": [
    "X = []\n",
    "y = []\n",
    "\n",
    "for item in get_radar_items(path):\n",
    "    X.append(get_x(item).flatten())\n",
    "    y.append(parent_label(item))\n",
    "    \n",
    "X = np.array(X)\n",
    "y = np.array(y)"
   ]
  },
  {
   "cell_type": "code",
   "execution_count": 8,
   "id": "187cc8f1-b184-4ed3-ae65-fa64642be46d",
   "metadata": {},
   "outputs": [],
   "source": [
    "label_encoder = LabelEncoder()\n",
    "label_encoder = label_encoder.fit(y)\n",
    "label_encoded_y = label_encoder.transform(y)"
   ]
  },
  {
   "cell_type": "code",
   "execution_count": 9,
   "id": "6e1d1edb-43db-409a-8549-0e7f8e3742e5",
   "metadata": {},
   "outputs": [
    {
     "data": {
      "text/plain": [
       "array([4, 4, 4, 4, 4, 4, 4, 4, 4, 4, 4, 4, 4, 4, 4, 4, 4, 4, 4, 4, 4, 4,\n",
       "       4, 4, 4, 4, 4, 4, 4, 4, 4, 4, 4, 4, 4, 4, 4, 4, 4, 4, 4, 4, 4, 4,\n",
       "       4, 4, 4, 4, 4, 4, 4, 4, 4, 4, 4, 4, 4, 4, 4, 4, 4, 4, 4, 4, 4, 4,\n",
       "       4, 4, 4, 4, 4, 4, 4, 4, 4, 4, 4, 4, 4, 4, 4, 4, 4, 4, 4, 4, 4, 4,\n",
       "       4, 4, 4, 4, 4, 4, 4, 4, 4, 4, 4, 4, 4, 4, 4, 4, 4, 4, 4, 5, 5, 5,\n",
       "       5, 5, 5, 5, 5, 5, 5, 5, 5, 5, 5, 5, 5, 5, 5, 5, 5, 5, 5, 5, 5, 5,\n",
       "       5, 5, 5, 5, 5, 5, 5, 5, 5, 5, 5, 5, 5, 5, 5, 5, 5, 5, 5, 5, 5, 5,\n",
       "       5, 5, 5, 5, 5, 5, 5, 5, 5, 5, 5, 5, 5, 5, 5, 5, 5, 5, 5, 5, 5, 5,\n",
       "       5, 5, 5, 5, 5, 5, 5, 5, 5, 5, 5, 5, 5, 5, 5, 5, 5, 5, 5, 5, 5, 5,\n",
       "       5, 5, 5, 5, 5, 5, 5, 5, 5, 5, 5, 0, 0, 0, 0, 0, 0, 0, 0, 0, 0, 0,\n",
       "       0, 0, 0, 0, 0, 0, 0, 0, 0, 0, 0, 0, 0, 0, 0, 0, 0, 0, 0, 0, 0, 0,\n",
       "       0, 0, 0, 0, 0, 0, 0, 0, 0, 0, 0, 0, 0, 0, 0, 0, 0, 0, 0, 0, 0, 0,\n",
       "       0, 0, 0, 0, 0, 0, 0, 0, 0, 0, 0, 0, 0, 0, 0, 0, 0, 0, 0, 0, 0, 0,\n",
       "       0, 0, 0, 0, 0, 0, 0, 0, 0, 0, 0, 0, 0, 0, 0, 0, 0, 0, 0, 0, 0, 0,\n",
       "       0, 0, 1, 1, 1, 1, 1, 1, 1, 1, 1, 1, 1, 1, 1, 1, 1, 1, 1, 1, 1, 1,\n",
       "       1, 1, 1, 1, 1, 1, 1, 1, 1, 1, 1, 1, 1, 1, 1, 1, 1, 1, 1, 1, 1, 1,\n",
       "       1, 1, 1, 1, 1, 1, 1, 1, 1, 1, 1, 1, 1, 1, 1, 1, 1, 1, 1, 1, 1, 1,\n",
       "       1, 1, 1, 1, 1, 1, 1, 1, 1, 1, 1, 1, 1, 1, 1, 1, 1, 1, 1, 1, 1, 1,\n",
       "       1, 1, 1, 1, 1, 1, 1, 1, 1, 1, 1, 1, 1, 1, 2, 2, 2, 2, 2, 2, 2, 2,\n",
       "       2, 2, 2, 2, 2, 2, 2, 2, 2, 2, 2, 2, 2, 2, 2, 2, 2, 2, 2, 2, 2, 2,\n",
       "       2, 2, 2, 2, 2, 2, 2, 2, 2, 2, 2, 2, 2, 2, 2, 2, 2, 2, 2, 2, 2, 2,\n",
       "       2, 2, 2, 2, 2, 2, 2, 2, 2, 2, 2, 2, 2, 2, 2, 2, 2, 2, 2, 2, 2, 2,\n",
       "       2, 2, 2, 2, 2, 2, 2, 2, 2, 2, 2, 2, 2, 2, 2, 2, 2, 2, 2, 2, 2, 2,\n",
       "       2, 2, 2, 2, 3, 3, 3, 3, 3, 3, 3, 3, 3, 3, 3, 3, 3, 3, 3, 3, 3, 3,\n",
       "       3, 3, 3, 3, 3, 3, 3, 3, 3, 3, 3, 3, 3, 3, 3, 3, 3, 3, 3, 3, 3, 3,\n",
       "       3, 3, 3, 3, 3, 3, 3, 3, 3, 3, 3, 3, 3, 3, 3, 3, 3, 3, 3, 3, 3, 3,\n",
       "       3, 3, 3, 3, 3, 3, 3, 3, 3, 3, 3, 3, 3, 3, 3, 3, 3, 3, 3, 3, 3, 3,\n",
       "       3, 3, 3, 3, 3, 3, 3, 3, 3, 3, 3, 3, 3, 3, 3, 3, 3, 3])"
      ]
     },
     "execution_count": 9,
     "metadata": {},
     "output_type": "execute_result"
    }
   ],
   "source": [
    "label_encoded_y"
   ]
  },
  {
   "cell_type": "code",
   "execution_count": 10,
   "id": "70b3c108-7deb-4420-bb2a-f670690d3cdd",
   "metadata": {},
   "outputs": [],
   "source": [
    "X_train, X_test, y_train, y_test = train_test_split(X, y, test_size=0.2, random_state=123)"
   ]
  },
  {
   "cell_type": "code",
   "execution_count": 11,
   "id": "7290249e-b4ea-4d26-867c-bf64ae135c7e",
   "metadata": {},
   "outputs": [
    {
     "data": {
      "text/plain": [
       "array([0.51037854, 0.50305253, 0.4971917 , 0.4871795 , 0.47667888,\n",
       "       0.46691087, 0.45518926, 0.44297925, 0.43199024, 0.42246643,\n",
       "       0.40976802, 0.3953602 , 0.3785104 , 0.35873017, 0.33650795,\n",
       "       0.31159952, 0.2842491 , 0.25787547, 0.22905983, 0.2007326 ,\n",
       "       0.17387058, 0.14896215, 0.12551893, 0.10525031, 0.08937729,\n",
       "       0.07374848, 0.06251527, 0.05567766, 0.05177045, 0.05128205,\n",
       "       0.05470086, 0.06202686, 0.07179487, 0.08644689, 0.1025641 ,\n",
       "       0.12258852, 0.14505495, 0.16752137, 0.1919414 , 0.21733822,\n",
       "       0.24004884, 0.26568988, 0.2876679 , 0.30915752, 0.33162394,\n",
       "       0.35286936, 0.37313798, 0.392674  , 0.41123322, 0.42881563,\n",
       "       0.44932845, 0.46422467, 0.47985348, 0.4937729 , 0.50500613,\n",
       "       0.51623935, 0.52503055, 0.53284496, 0.54114777, 0.547497  ,\n",
       "       0.5543346 , 0.5606838 , 0.5663004 , 0.5704518 , 0.46837607,\n",
       "       0.42832723, 0.41001222, 0.4004884 , 0.3985348 , 0.3980464 ,\n",
       "       0.4       , 0.4058608 , 0.41294262, 0.42148963, 0.42979243,\n",
       "       0.43443224, 0.43956044, 0.44761905, 0.45543346, 0.45958486,\n",
       "       0.46300367, 0.46666667, 0.46837607, 0.46984127, 0.47032967,\n",
       "       0.46910867, 0.46935287, 0.47179487, 0.47130647, 0.46935287,\n",
       "       0.47081807, 0.46886447, 0.46788767, 0.46837607, 0.46935287,\n",
       "       0.47032967, 0.47179487, 0.47472528, 0.47667888, 0.47863248,\n",
       "       0.47887668, 0.47838828, 0.47716728, 0.47863248, 0.47765568,\n",
       "       0.47887668, 0.48058608, 0.48205128, 0.48302808, 0.48302808,\n",
       "       0.4854701 , 0.4859585 , 0.4884005 , 0.4908425 , 0.4937729 ,\n",
       "       0.4942613 , 0.4937729 , 0.4947497 , 0.4952381 , 0.4947497 ,\n",
       "       0.4932845 , 0.4942613 , 0.4945055 , 0.4949939 , 0.4957265 ,\n",
       "       0.4952381 , 0.4957265 , 0.4954823 , 0.53943837, 0.5846154 ,\n",
       "       0.61636144, 0.63931626, 0.6551893 , 0.6686203 , 0.6783883 ,\n",
       "       0.6835165 , 0.6901099 , 0.6927961 , 0.6964591 , 0.6989011 ,\n",
       "       0.7013431 , 0.7003663 , 0.7003663 , 0.7013431 , 0.7023199 ,\n",
       "       0.7013431 , 0.7003663 , 0.6974359 , 0.6940171 , 0.6901099 ,\n",
       "       0.6827839 , 0.6774115 , 0.6661783 , 0.6583639 , 0.64664227,\n",
       "       0.63540906, 0.62222224, 0.60952383, 0.5936508 , 0.5787546 ,\n",
       "       0.5648352 , 0.5489622 , 0.53431016, 0.52161175, 0.50842494,\n",
       "       0.4957265 , 0.4854701 , 0.47326007, 0.46251526, 0.45177045,\n",
       "       0.44200245, 0.43223444, 0.42490843, 0.41758242, 0.41221002,\n",
       "       0.407326  , 0.4039072 , 0.4017094 , 0.3980464 , 0.397558  ,\n",
       "       0.3970696 , 0.3970696 , 0.3960928 , 0.3956044 , 0.3956044 ,\n",
       "       0.3958486 , 0.3970696 , 0.3953602 , 0.3960928 , 0.3965812 ,\n",
       "       0.398779  , 0.3985348 ], dtype=float32)"
      ]
     },
     "execution_count": 11,
     "metadata": {},
     "output_type": "execute_result"
    }
   ],
   "source": [
    "X[0]"
   ]
  },
  {
   "cell_type": "code",
   "execution_count": 12,
   "id": "9a77a208-f162-4396-867a-1666f9598fbb",
   "metadata": {},
   "outputs": [
    {
     "data": {
      "text/plain": [
       "(192,)"
      ]
     },
     "execution_count": 12,
     "metadata": {},
     "output_type": "execute_result"
    }
   ],
   "source": [
    "X[0].shape"
   ]
  },
  {
   "cell_type": "code",
   "execution_count": 13,
   "id": "9adf34f0-8689-48c3-9500-03a9d7ac9b49",
   "metadata": {},
   "outputs": [
    {
     "data": {
      "text/plain": [
       "117504"
      ]
     },
     "execution_count": 13,
     "metadata": {},
     "output_type": "execute_result"
    }
   ],
   "source": [
    "X[0].shape[0] * len(X)"
   ]
  },
  {
   "cell_type": "code",
   "execution_count": 14,
   "id": "7f7a2916-0d1b-47f6-b713-261461d35980",
   "metadata": {},
   "outputs": [
    {
     "data": {
      "image/png": "[encoded data removed]",
      "text/plain": [
       "<Figure size 864x720 with 1 Axes>"
      ]
     },
     "metadata": {
      "needs_background": "light"
     },
     "output_type": "display_data"
    }
   ],
   "source": [
    "plt.figure(figsize=(12,10))\n",
    "plt.plot(X[-1])\n",
    "plt.xlabel('Mėginys', fontsize=16)\n",
    "plt.ylabel('Amplitudė', fontsize=16)\n",
    "plt.savefig('3to1Signal.png')\n"
   ]
  },
  {
   "cell_type": "code",
   "execution_count": 15,
   "id": "d5f2d44c-ec59-4606-bd8f-dc73d6ba2510",
   "metadata": {},
   "outputs": [],
   "source": [
    "x_clf = xgb.XGBClassifier(max_depth = 100, alpha = 10, n_estimators = 1000)"
   ]
  },
  {
   "cell_type": "code",
   "execution_count": 16,
   "id": "ad66acd9-43c0-4790-a541-974be30ba798",
   "metadata": {},
   "outputs": [
    {
     "name": "stderr",
     "output_type": "stream",
     "text": [
      "/home/povilas/anaconda3/envs/learning-pytorch/lib/python3.7/site-packages/xgboost/sklearn.py:1224: UserWarning: The use of label encoder in XGBClassifier is deprecated and will be removed in a future release. To remove this warning, do the following: 1) Pass option use_label_encoder=False when constructing XGBClassifier object; and 2) Encode your labels (y) as integers starting with 0, i.e. 0, 1, 2, ..., [num_class - 1].\n",
      "  warnings.warn(label_encoder_deprecation_msg, UserWarning)\n"
     ]
    },
    {
     "name": "stdout",
     "output_type": "stream",
     "text": [
      "[12:49:35] WARNING: /home/conda/feedstock_root/build_artifacts/xgboost-split_1645117836726/work/src/learner.cc:1115: Starting in XGBoost 1.3.0, the default evaluation metric used with the objective 'multi:softprob' was changed from 'merror' to 'mlogloss'. Explicitly set eval_metric if you'd like to restore the old behavior.\n"
     ]
    }
   ],
   "source": [
    "x_clf.fit(X_train,y_train)\n",
    "preds = x_clf.predict(X_test)"
   ]
  },
  {
   "cell_type": "code",
   "execution_count": 17,
   "id": "9e50588c-bdfc-456b-a310-ded50a5e58d0",
   "metadata": {},
   "outputs": [
    {
     "name": "stdout",
     "output_type": "stream",
     "text": [
      "              precision    recall  f1-score   support\n",
      "\n",
      "   Apelsinas       0.52      0.50      0.51        22\n",
      "    CocaCola       0.91      0.95      0.93        21\n",
      "     Kefyras       0.90      1.00      0.95        18\n",
      "     Obuolys       0.55      0.50      0.52        22\n",
      "   Pomidoras       0.81      0.89      0.85        19\n",
      "      Vanduo       1.00      0.90      0.95        21\n",
      "\n",
      "    accuracy                           0.78       123\n",
      "   macro avg       0.78      0.79      0.79       123\n",
      "weighted avg       0.77      0.78      0.78       123\n",
      "\n"
     ]
    }
   ],
   "source": [
    "print(classification_report(y_test, preds))"
   ]
  },
  {
   "cell_type": "code",
   "execution_count": 21,
   "id": "02d7ed0b-82df-408d-85b4-ad0bb2a2b0f4",
   "metadata": {},
   "outputs": [
    {
     "data": {
      "text/plain": [
       "<sklearn.metrics._plot.confusion_matrix.ConfusionMatrixDisplay at 0x7f03f11ded90>"
      ]
     },
     "execution_count": 21,
     "metadata": {},
     "output_type": "execute_result"
    },
    {
     "data": {
      "image/png": "[encoded data removed]",
      "text/plain": [
       "<Figure size 720x720 with 2 Axes>"
      ]
     },
     "metadata": {
      "needs_background": "light"
     },
     "output_type": "display_data"
    }
   ],
   "source": [
    "cm = confusion_matrix(y_test, preds, labels=x_clf.classes_)\n",
    "disp = ConfusionMatrixDisplay(confusion_matrix=cm, display_labels=x_clf.classes_)\n",
    "fig, ax = plt.subplots(figsize=(10,10))\n",
    "\n",
    "disp.plot(ax=ax)"
   ]
  },
  {
   "cell_type": "code",
   "execution_count": null,
   "id": "135deb78-4452-4cfb-8456-7f6bf60ce475",
   "metadata": {},
   "outputs": [],
   "source": []
  },
  {
   "cell_type": "code",
   "execution_count": null,
   "id": "db54b3ce-26f9-43a6-b38f-e86f6ce8ddfc",
   "metadata": {},
   "outputs": [],
   "source": []
  },
  {
   "cell_type": "code",
   "execution_count": null,
   "id": "92d326d4-42d1-4fdb-b218-33b393246f0e",
   "metadata": {},
   "outputs": [],
   "source": []
  }
 ],
 "metadata": {
  "kernelspec": {
   "display_name": "Python 3 (ipykernel)",
   "language": "python",
   "name": "python3"
  },
  "language_info": {
   "codemirror_mode": {
    "name": "ipython",
    "version": 3
   },
   "file_extension": ".py",
   "mimetype": "text/x-python",
   "name": "python",
   "nbconvert_exporter": "python",
   "pygments_lexer": "ipython3",
   "version": "3.7.11"
  }
 },
 "nbformat": 4,
 "nbformat_minor": 5
}
