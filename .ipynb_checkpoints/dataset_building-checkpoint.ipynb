{
 "cells": [
  {
   "cell_type": "code",
   "execution_count": 4,
   "id": "6bfd5417-36d0-484e-9e56-e59ccd77bdaf",
   "metadata": {},
   "outputs": [],
   "source": [
    "import numpy as np\n",
    "import matplotlib.pyplot as plt\n",
    "from ifxRadarSDK import *\n",
    "import torchaudio\n",
    "import torch\n",
    "import ipywidgets as widgets\n",
    "import uuid\n",
    "from IPython.display import display, clear_output\n",
    "import os"
   ]
  },
  {
   "cell_type": "code",
   "execution_count": 6,
   "id": "3e89fb1a-2ff3-4bba-8fb9-fd3bfc473ccb",
   "metadata": {},
   "outputs": [],
   "source": [
    "def get_frame(klass):\n",
    "    with Device() as device:\n",
    "        num_rx_antennas = device.get_device_information()[\"num_rx_antennas\"]\n",
    "        rx_mask = (1 << num_rx_antennas) - 1\n",
    "\n",
    "        metric = {\n",
    "                    'sample_rate_Hz':           1000000,\n",
    "                    'range_resolution_m':       0.03,\n",
    "                    'max_range_m':              0.8,\n",
    "                    'max_speed_m_s':            2.84,\n",
    "                    'speed_resolution_m_s':     0.089,\n",
    "                    'center_frequency_Hz':      0,\n",
    "                    # 'lower_frequency_Hz':       57810000000,\n",
    "                    # 'upper_frequency_Hz':       63190000000,\n",
    "                    'rx_mask':                  rx_mask,\n",
    "                    'tx_mask':                  1,\n",
    "                    'tx_power_level':           4,\n",
    "                    'if_gain_dB':               40\n",
    "                }\n",
    "        cfg = device.translate_metrics_to_config(**metric);\n",
    "        device.set_config(**cfg)\n",
    "\n",
    "        #Create frame\n",
    "\n",
    "        frame = device.create_frame_from_device_handle()\n",
    "\n",
    "        #Number of virtual active receiving antennas\n",
    "        num_rx = frame.get_num_rx()\n",
    "\n",
    "        device.get_next_frame(frame)\n",
    "\n",
    "        data = []\n",
    "        for iAnt in range(0, num_rx):\n",
    "            mat = frame.get_mat_from_antenna(iAnt)\n",
    "            data.append(mat)\n",
    "        \n",
    "        data = np.array(data)\n",
    "        \n",
    "        return data = np.array(data)"
   ]
  },
  {
   "cell_type": "code",
   "execution_count": 7,
   "id": "dbebe180-91f9-4c19-a2cc-1a5d3bc2a087",
   "metadata": {},
   "outputs": [],
   "source": [
    "def save_frame(klass):\n",
    "    with Device() as device:\n",
    "        num_rx_antennas = device.get_device_information()[\"num_rx_antennas\"]\n",
    "        rx_mask = (1 << num_rx_antennas) - 1\n",
    "\n",
    "        metric = {\n",
    "                    'sample_rate_Hz':           1000000,\n",
    "                    'range_resolution_m':       0.03,\n",
    "                    'max_range_m':              0.8,\n",
    "                    'max_speed_m_s':            2.84,\n",
    "                    'speed_resolution_m_s':     0.089,\n",
    "                    'center_frequency_Hz':      0,\n",
    "                    # 'lower_frequency_Hz':       57810000000,\n",
    "                    # 'upper_frequency_Hz':       63190000000,\n",
    "                    'rx_mask':                  rx_mask,\n",
    "                    'tx_mask':                  1,\n",
    "                    'tx_power_level':           4,\n",
    "                    'if_gain_dB':               40\n",
    "                }\n",
    "        cfg = device.translate_metrics_to_config(**metric);\n",
    "        device.set_config(**cfg)\n",
    "\n",
    "        #Create frame\n",
    "\n",
    "        frame = device.create_frame_from_device_handle()\n",
    "\n",
    "        #Number of virtual active receiving antennas\n",
    "        num_rx = frame.get_num_rx()\n",
    "\n",
    "        device.get_next_frame(frame)\n",
    "\n",
    "        data = []\n",
    "        for iAnt in range(0, num_rx):\n",
    "            mat = frame.get_mat_from_antenna(iAnt)\n",
    "            data.append(mat)\n",
    "        data = np.array(data)\n",
    "        path = f'new_data/{klass}'\n",
    "        if not os.path.exists(path): os.mkdir(path)\n",
    "        np.save(f'{path}/{str(uuid.uuid4())}', data[:, 0])"
   ]
  },
  {
   "cell_type": "code",
   "execution_count": 10,
   "id": "29e7afb3-20f9-47e7-a2b4-a535a5966a3b",
   "metadata": {},
   "outputs": [
    {
     "data": {
      "application/vnd.jupyter.widget-view+json": {
       "model_id": "740f5684471141c0906b9598a502c500",
       "version_major": 2,
       "version_minor": 0
      },
      "text/plain": [
       "Button(description='apple', style=ButtonStyle())"
      ]
     },
     "metadata": {},
     "output_type": "display_data"
    },
    {
     "data": {
      "application/vnd.jupyter.widget-view+json": {
       "model_id": "d6a26936f0454bfe8fe8123220e47666",
       "version_major": 2,
       "version_minor": 0
      },
      "text/plain": [
       "Output()"
      ]
     },
     "metadata": {},
     "output_type": "display_data"
    },
    {
     "data": {
      "application/vnd.jupyter.widget-view+json": {
       "model_id": "3aba72c11cbe43cb8482e2fc7db23db9",
       "version_major": 2,
       "version_minor": 0
      },
      "text/plain": [
       "Button(description='avocado', style=ButtonStyle())"
      ]
     },
     "metadata": {},
     "output_type": "display_data"
    },
    {
     "data": {
      "application/vnd.jupyter.widget-view+json": {
       "model_id": "d6a26936f0454bfe8fe8123220e47666",
       "version_major": 2,
       "version_minor": 0
      },
      "text/plain": [
       "Output()"
      ]
     },
     "metadata": {},
     "output_type": "display_data"
    },
    {
     "data": {
      "application/vnd.jupyter.widget-view+json": {
       "model_id": "b708a52ce8734c17bbe99c8c20821b8a",
       "version_major": 2,
       "version_minor": 0
      },
      "text/plain": [
       "Button(description='coke', style=ButtonStyle())"
      ]
     },
     "metadata": {},
     "output_type": "display_data"
    },
    {
     "data": {
      "application/vnd.jupyter.widget-view+json": {
       "model_id": "d6a26936f0454bfe8fe8123220e47666",
       "version_major": 2,
       "version_minor": 0
      },
      "text/plain": [
       "Output()"
      ]
     },
     "metadata": {},
     "output_type": "display_data"
    },
    {
     "data": {
      "application/vnd.jupyter.widget-view+json": {
       "model_id": "fcbdfc46ad234d89b738811af6af805d",
       "version_major": 2,
       "version_minor": 0
      },
      "text/plain": [
       "Button(description='orange', style=ButtonStyle())"
      ]
     },
     "metadata": {},
     "output_type": "display_data"
    },
    {
     "data": {
      "application/vnd.jupyter.widget-view+json": {
       "model_id": "d6a26936f0454bfe8fe8123220e47666",
       "version_major": 2,
       "version_minor": 0
      },
      "text/plain": [
       "Output()"
      ]
     },
     "metadata": {},
     "output_type": "display_data"
    },
    {
     "data": {
      "application/vnd.jupyter.widget-view+json": {
       "model_id": "5412653016f24189a94c07c1ad93ec97",
       "version_major": 2,
       "version_minor": 0
      },
      "text/plain": [
       "Button(description='tomato', style=ButtonStyle())"
      ]
     },
     "metadata": {},
     "output_type": "display_data"
    },
    {
     "data": {
      "application/vnd.jupyter.widget-view+json": {
       "model_id": "d6a26936f0454bfe8fe8123220e47666",
       "version_major": 2,
       "version_minor": 0
      },
      "text/plain": [
       "Output()"
      ]
     },
     "metadata": {},
     "output_type": "display_data"
    },
    {
     "data": {
      "application/vnd.jupyter.widget-view+json": {
       "model_id": "c5c18a88db5a40c8bea537e7ca2f71a2",
       "version_major": 2,
       "version_minor": 0
      },
      "text/plain": [
       "Button(description='kefir', style=ButtonStyle())"
      ]
     },
     "metadata": {},
     "output_type": "display_data"
    },
    {
     "data": {
      "application/vnd.jupyter.widget-view+json": {
       "model_id": "d6a26936f0454bfe8fe8123220e47666",
       "version_major": 2,
       "version_minor": 0
      },
      "text/plain": [
       "Output()"
      ]
     },
     "metadata": {},
     "output_type": "display_data"
    },
    {
     "data": {
      "application/vnd.jupyter.widget-view+json": {
       "model_id": "d85459c1d2074fc99592ff57d1657845",
       "version_major": 2,
       "version_minor": 0
      },
      "text/plain": [
       "Button(description='water', style=ButtonStyle())"
      ]
     },
     "metadata": {},
     "output_type": "display_data"
    },
    {
     "data": {
      "application/vnd.jupyter.widget-view+json": {
       "model_id": "d6a26936f0454bfe8fe8123220e47666",
       "version_major": 2,
       "version_minor": 0
      },
      "text/plain": [
       "Output()"
      ]
     },
     "metadata": {},
     "output_type": "display_data"
    }
   ],
   "source": [
    "classes = ['orange', 'vape', 'banana', 'jogurtas',\n",
    "           'apple', 'tomato', 'lemon', 'lime', 'avocado',\n",
    "           'pear', 'candle', 'book', 'mobile', 'tennis_ball',\n",
    "           'water', 'coke', 'oil', 'kefir'\n",
    "          ]\n",
    "\n",
    "classes = ['apple', 'avocado', 'coke', 'orange', 'tomato', 'kefir', 'water']\n",
    "\n",
    "output = widgets.Output()\n",
    "\n",
    "def on_button_clicked(b):\n",
    "    with output:\n",
    "        # clear_output(wait=True)\n",
    "        get_frame(b.description)\n",
    "\n",
    "for klass in classes:\n",
    "    btn = widgets.Button(description=klass)\n",
    "    display(btn, output)\n",
    "    btn.on_click(on_button_clicked)\n"
   ]
  },
  {
   "cell_type": "code",
   "execution_count": 15,
   "id": "7fac22e7-878a-4d6c-b18d-b81b784283d0",
   "metadata": {},
   "outputs": [
    {
     "ename": "TypeError",
     "evalue": "list indices must be integers or slices, not tuple",
     "output_type": "error",
     "traceback": [
      "\u001b[0;31m---------------------------------------------------------------------------\u001b[0m",
      "\u001b[0;31mTypeError\u001b[0m                                 Traceback (most recent call last)",
      "\u001b[0;32m/tmp/ipykernel_689417/3736112319.py\u001b[0m in \u001b[0;36m<module>\u001b[0;34m\u001b[0m\n\u001b[1;32m      1\u001b[0m \u001b[0mdata\u001b[0m \u001b[0;34m=\u001b[0m \u001b[0mget_frame\u001b[0m\u001b[0;34m(\u001b[0m\u001b[0;34m'pss'\u001b[0m\u001b[0;34m)\u001b[0m\u001b[0;34m\u001b[0m\u001b[0;34m\u001b[0m\u001b[0m\n\u001b[0;32m----> 2\u001b[0;31m \u001b[0mdata\u001b[0m\u001b[0;34m[\u001b[0m\u001b[0;34m:\u001b[0m\u001b[0;34m,\u001b[0m \u001b[0;36m0\u001b[0m\u001b[0;34m]\u001b[0m\u001b[0;34m\u001b[0m\u001b[0;34m\u001b[0m\u001b[0m\n\u001b[0m",
      "\u001b[0;31mTypeError\u001b[0m: list indices must be integers or slices, not tuple"
     ]
    }
   ],
   "source": [
    "data = get_frame('pss')\n",
    "data[:, 0]"
   ]
  },
  {
   "cell_type": "code",
   "execution_count": null,
   "id": "f4433240-c289-4e04-832d-2b04ab0959a1",
   "metadata": {},
   "outputs": [],
   "source": []
  }
 ],
 "metadata": {
  "kernelspec": {
   "display_name": "Python 3 (ipykernel)",
   "language": "python",
   "name": "python3"
  },
  "language_info": {
   "codemirror_mode": {
    "name": "ipython",
    "version": 3
   },
   "file_extension": ".py",
   "mimetype": "text/x-python",
   "name": "python",
   "nbconvert_exporter": "python",
   "pygments_lexer": "ipython3",
   "version": "3.7.11"
  }
 },
 "nbformat": 4,
 "nbformat_minor": 5
}
