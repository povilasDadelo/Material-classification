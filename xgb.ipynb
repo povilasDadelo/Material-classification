{
 "cells": [
  {
   "cell_type": "code",
   "execution_count": 16,
   "id": "2202e16c-cfc4-4db9-b166-33c70578b0b4",
   "metadata": {
    "tags": []
   },
   "outputs": [],
   "source": [
    "from fastai.vision.all import *\n",
    "from torch.utils.data.dataset import Dataset\n",
    "import torch\n",
    "import torchaudio\n",
    "from torchaudio.transforms import *\n",
    "from pathlib import Path\n",
    "import numpy as np\n",
    "import glob\n",
    "import torchvision.models as models\n",
    "import torch.nn as nn\n",
    "import torch.nn.functional as F\n",
    "\n",
    "import xgboost as xgb\n",
    "from sklearn.metrics import *\n",
    "from sklearn.model_selection import train_test_split\n",
    "from sklearn.preprocessing import LabelEncoder"
   ]
  },
  {
   "cell_type": "code",
   "execution_count": 17,
   "id": "8ebc259a-6d48-460a-91a4-412bc215e093",
   "metadata": {},
   "outputs": [],
   "source": [
    "path = Path('new_new_data')"
   ]
  },
  {
   "cell_type": "code",
   "execution_count": 18,
   "id": "b2cb8c0d-f878-453a-992e-b0136583936b",
   "metadata": {},
   "outputs": [],
   "source": [
    "def get_radar_items(path_to_data): \n",
    "    items = list(map(lambda x: x.ls(), path.ls()))\n",
    "    \n",
    "    return [item for sublist in items for item in sublist]"
   ]
  },
  {
   "cell_type": "code",
   "execution_count": 19,
   "id": "54217039-807b-4a67-bbf8-b9074c9bd6c6",
   "metadata": {},
   "outputs": [],
   "source": [
    "def label_func(fname):\n",
    "    return parent_label(fname)"
   ]
  },
  {
   "cell_type": "code",
   "execution_count": 20,
   "id": "1b8fc754-d369-4f48-ae22-40d3277cafe6",
   "metadata": {},
   "outputs": [],
   "source": [
    "def get_x(img_path):\n",
    "    signal_data = np.load(img_path)\n",
    "    spec = torchaudio.transforms.Spectrogram(n_fft=32, win_length=24)\n",
    "        \n",
    "    img = torch.stack((\n",
    "        torch.tensor(signal_data[0]),\n",
    "        torch.tensor(signal_data[1]),\n",
    "        torch.tensor(signal_data[2]),\n",
    "    ))\n",
    "    img_hwc = torch.transpose(spec(img), 0, 2).numpy()\n",
    "    \n",
    "    return (img_hwc / 5 * 255).astype(np.uint8)[:, :3]"
   ]
  },
  {
   "cell_type": "code",
   "execution_count": 21,
   "id": "2e292161-fd7e-4fb5-a5e6-64087eb78d5a",
   "metadata": {},
   "outputs": [],
   "source": [
    "labels = [str(clss).split('/')[1] for clss in path.ls()]"
   ]
  },
  {
   "cell_type": "code",
   "execution_count": 22,
   "id": "7297b605-adc0-49f9-8d67-f6bae79d6d52",
   "metadata": {},
   "outputs": [],
   "source": [
    "X = []\n",
    "y = []\n",
    "\n",
    "for item in get_radar_items(path):\n",
    "    X.append(get_x(item).flatten())\n",
    "    y.append(parent_label(item))\n",
    "    \n",
    "X = np.array(X)\n",
    "y = np.array(y)"
   ]
  },
  {
   "cell_type": "code",
   "execution_count": 23,
   "id": "187cc8f1-b184-4ed3-ae65-fa64642be46d",
   "metadata": {},
   "outputs": [],
   "source": [
    "label_encoder = LabelEncoder()\n",
    "label_encoder = label_encoder.fit(y)\n",
    "label_encoded_y = label_encoder.transform(y)"
   ]
  },
  {
   "cell_type": "code",
   "execution_count": 24,
   "id": "6e1d1edb-43db-409a-8549-0e7f8e3742e5",
   "metadata": {},
   "outputs": [
    {
     "data": {
      "text/plain": [
       "array([4, 4, 4, 4, 4, 4, 4, 4, 4, 4, 4, 4, 4, 4, 4, 4, 4, 4, 4, 4, 4, 4,\n",
       "       4, 4, 4, 4, 4, 4, 4, 4, 4, 4, 4, 4, 4, 4, 4, 4, 4, 4, 4, 4, 4, 4,\n",
       "       4, 4, 4, 4, 4, 4, 4, 4, 4, 4, 4, 4, 4, 4, 4, 4, 4, 4, 4, 4, 4, 4,\n",
       "       4, 4, 4, 4, 4, 4, 4, 4, 4, 4, 4, 4, 4, 4, 4, 4, 4, 4, 4, 4, 4, 4,\n",
       "       4, 4, 4, 4, 4, 4, 4, 4, 4, 4, 4, 4, 4, 4, 4, 4, 4, 4, 4, 5, 5, 5,\n",
       "       5, 5, 5, 5, 5, 5, 5, 5, 5, 5, 5, 5, 5, 5, 5, 5, 5, 5, 5, 5, 5, 5,\n",
       "       5, 5, 5, 5, 5, 5, 5, 5, 5, 5, 5, 5, 5, 5, 5, 5, 5, 5, 5, 5, 5, 5,\n",
       "       5, 5, 5, 5, 5, 5, 5, 5, 5, 5, 5, 5, 5, 5, 5, 5, 5, 5, 5, 5, 5, 5,\n",
       "       5, 5, 5, 5, 5, 5, 5, 5, 5, 5, 5, 5, 5, 5, 5, 5, 5, 5, 5, 5, 5, 5,\n",
       "       5, 5, 5, 5, 5, 5, 5, 5, 5, 5, 5, 0, 0, 0, 0, 0, 0, 0, 0, 0, 0, 0,\n",
       "       0, 0, 0, 0, 0, 0, 0, 0, 0, 0, 0, 0, 0, 0, 0, 0, 0, 0, 0, 0, 0, 0,\n",
       "       0, 0, 0, 0, 0, 0, 0, 0, 0, 0, 0, 0, 0, 0, 0, 0, 0, 0, 0, 0, 0, 0,\n",
       "       0, 0, 0, 0, 0, 0, 0, 0, 0, 0, 0, 0, 0, 0, 0, 0, 0, 0, 0, 0, 0, 0,\n",
       "       0, 0, 0, 0, 0, 0, 0, 0, 0, 0, 0, 0, 0, 0, 0, 0, 0, 0, 0, 0, 0, 0,\n",
       "       0, 0, 1, 1, 1, 1, 1, 1, 1, 1, 1, 1, 1, 1, 1, 1, 1, 1, 1, 1, 1, 1,\n",
       "       1, 1, 1, 1, 1, 1, 1, 1, 1, 1, 1, 1, 1, 1, 1, 1, 1, 1, 1, 1, 1, 1,\n",
       "       1, 1, 1, 1, 1, 1, 1, 1, 1, 1, 1, 1, 1, 1, 1, 1, 1, 1, 1, 1, 1, 1,\n",
       "       1, 1, 1, 1, 1, 1, 1, 1, 1, 1, 1, 1, 1, 1, 1, 1, 1, 1, 1, 1, 1, 1,\n",
       "       1, 1, 1, 1, 1, 1, 1, 1, 1, 1, 1, 1, 1, 1, 2, 2, 2, 2, 2, 2, 2, 2,\n",
       "       2, 2, 2, 2, 2, 2, 2, 2, 2, 2, 2, 2, 2, 2, 2, 2, 2, 2, 2, 2, 2, 2,\n",
       "       2, 2, 2, 2, 2, 2, 2, 2, 2, 2, 2, 2, 2, 2, 2, 2, 2, 2, 2, 2, 2, 2,\n",
       "       2, 2, 2, 2, 2, 2, 2, 2, 2, 2, 2, 2, 2, 2, 2, 2, 2, 2, 2, 2, 2, 2,\n",
       "       2, 2, 2, 2, 2, 2, 2, 2, 2, 2, 2, 2, 2, 2, 2, 2, 2, 2, 2, 2, 2, 2,\n",
       "       2, 2, 2, 2, 3, 3, 3, 3, 3, 3, 3, 3, 3, 3, 3, 3, 3, 3, 3, 3, 3, 3,\n",
       "       3, 3, 3, 3, 3, 3, 3, 3, 3, 3, 3, 3, 3, 3, 3, 3, 3, 3, 3, 3, 3, 3,\n",
       "       3, 3, 3, 3, 3, 3, 3, 3, 3, 3, 3, 3, 3, 3, 3, 3, 3, 3, 3, 3, 3, 3,\n",
       "       3, 3, 3, 3, 3, 3, 3, 3, 3, 3, 3, 3, 3, 3, 3, 3, 3, 3, 3, 3, 3, 3,\n",
       "       3, 3, 3, 3, 3, 3, 3, 3, 3, 3, 3, 3, 3, 3, 3, 3, 3, 3])"
      ]
     },
     "execution_count": 24,
     "metadata": {},
     "output_type": "execute_result"
    }
   ],
   "source": [
    "label_encoded_y"
   ]
  },
  {
   "cell_type": "code",
   "execution_count": 25,
   "id": "70b3c108-7deb-4420-bb2a-f670690d3cdd",
   "metadata": {},
   "outputs": [],
   "source": [
    "X_train, X_test, y_train, y_test = train_test_split(X, y, test_size=0.2, random_state=123)"
   ]
  },
  {
   "cell_type": "code",
   "execution_count": 26,
   "id": "9a77a208-f162-4396-867a-1666f9598fbb",
   "metadata": {},
   "outputs": [
    {
     "data": {
      "text/plain": [
       "array([152, 231, 133,  67,  87,  30,  70,  44,  46, 183, 133, 204, 232,\n",
       "       158, 147,  48,  43, 110,  98,  82,  99,  46, 251, 242,   6,  47,\n",
       "       106, 184, 131, 143,  98,  17, 142,  15,  49,  56, 173, 214, 219,\n",
       "        83,  57,  61,  50,  51,  30, 115,   7, 131,  24,  79,  31,  76,\n",
       "        52,  33], dtype=uint8)"
      ]
     },
     "execution_count": 26,
     "metadata": {},
     "output_type": "execute_result"
    }
   ],
   "source": [
    "X[0]"
   ]
  },
  {
   "cell_type": "code",
   "execution_count": 27,
   "id": "7f7a2916-0d1b-47f6-b713-261461d35980",
   "metadata": {},
   "outputs": [
    {
     "data": {
      "text/plain": [
       "[<matplotlib.lines.Line2D at 0x7ff19437c050>]"
      ]
     },
     "execution_count": 27,
     "metadata": {},
     "output_type": "execute_result"
    },
    {
     "data": {
      "image/png": "[encoded data removed]",
      "text/plain": [
       "<Figure size 432x288 with 1 Axes>"
      ]
     },
     "metadata": {
      "needs_background": "light"
     },
     "output_type": "display_data"
    }
   ],
   "source": [
    "plt.plot(X[0])"
   ]
  },
  {
   "cell_type": "code",
   "execution_count": 34,
   "id": "d5f2d44c-ec59-4606-bd8f-dc73d6ba2510",
   "metadata": {},
   "outputs": [],
   "source": [
    "x_clf = xgb.XGBClassifier(max_depth = 30, alpha = 10, n_estimators = 100, objective='merror')"
   ]
  },
  {
   "cell_type": "code",
   "execution_count": 35,
   "id": "ad66acd9-43c0-4790-a541-974be30ba798",
   "metadata": {},
   "outputs": [
    {
     "name": "stdout",
     "output_type": "stream",
     "text": [
      "[15:02:09] WARNING: /home/conda/feedstock_root/build_artifacts/xgboost-split_1645117836726/work/src/learner.cc:1115: Starting in XGBoost 1.3.0, the default evaluation metric used with the objective 'multi:softprob' was changed from 'merror' to 'mlogloss'. Explicitly set eval_metric if you'd like to restore the old behavior.\n"
     ]
    },
    {
     "name": "stderr",
     "output_type": "stream",
     "text": [
      "/home/povilas/anaconda3/envs/learning-pytorch/lib/python3.7/site-packages/xgboost/sklearn.py:1224: UserWarning: The use of label encoder in XGBClassifier is deprecated and will be removed in a future release. To remove this warning, do the following: 1) Pass option use_label_encoder=False when constructing XGBClassifier object; and 2) Encode your labels (y) as integers starting with 0, i.e. 0, 1, 2, ..., [num_class - 1].\n",
      "  warnings.warn(label_encoder_deprecation_msg, UserWarning)\n"
     ]
    }
   ],
   "source": [
    "x_clf.fit(X_train,y_train)\n",
    "preds = x_clf.predict(X_test)"
   ]
  },
  {
   "cell_type": "code",
   "execution_count": 36,
   "id": "9e50588c-bdfc-456b-a310-ded50a5e58d0",
   "metadata": {},
   "outputs": [
    {
     "name": "stdout",
     "output_type": "stream",
     "text": [
      "              precision    recall  f1-score   support\n",
      "\n",
      "   Apelsinas       0.53      0.45      0.49        22\n",
      "    CocaCola       1.00      0.90      0.95        21\n",
      "     Kefyras       0.95      1.00      0.97        18\n",
      "     Obuolys       0.56      0.64      0.60        22\n",
      "   Pomidoras       0.70      0.74      0.72        19\n",
      "      Vanduo       0.95      0.95      0.95        21\n",
      "\n",
      "    accuracy                           0.77       123\n",
      "   macro avg       0.78      0.78      0.78       123\n",
      "weighted avg       0.77      0.77      0.77       123\n",
      "\n"
     ]
    }
   ],
   "source": [
    "print(classification_report(y_test, preds))"
   ]
  },
  {
   "cell_type": "code",
   "execution_count": 33,
   "id": "02d7ed0b-82df-408d-85b4-ad0bb2a2b0f4",
   "metadata": {},
   "outputs": [
    {
     "data": {
      "image/png": "[encoded data removed]",
      "text/plain": [
       "<Figure size 720x720 with 2 Axes>"
      ]
     },
     "metadata": {
      "needs_background": "light"
     },
     "output_type": "display_data"
    }
   ],
   "source": [
    "cm = confusion_matrix(y_test, preds, labels=x_clf.classes_)\n",
    "disp = ConfusionMatrixDisplay(confusion_matrix=cm, display_labels=x_clf.classes_)\n",
    "fig, ax = plt.subplots(figsize=(10,10))\n",
    "\n",
    "disp.plot(ax=ax)\n",
    "#plt.savefig('xgb3D_conf_matrix.png')"
   ]
  },
  {
   "cell_type": "code",
   "execution_count": null,
   "id": "d8d22f96-a511-488b-93c1-a53429696b1e",
   "metadata": {},
   "outputs": [],
   "source": []
  }
 ],
 "metadata": {
  "kernelspec": {
   "display_name": "Python 3 (ipykernel)",
   "language": "python",
   "name": "python3"
  },
  "language_info": {
   "codemirror_mode": {
    "name": "ipython",
    "version": 3
   },
   "file_extension": ".py",
   "mimetype": "text/x-python",
   "name": "python",
   "nbconvert_exporter": "python",
   "pygments_lexer": "ipython3",
   "version": "3.7.11"
  }
 },
 "nbformat": 4,
 "nbformat_minor": 5
}
